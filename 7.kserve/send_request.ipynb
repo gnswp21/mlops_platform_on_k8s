{
 "cells": [
  {
   "cell_type": "code",
   "execution_count": 9,
   "metadata": {},
   "outputs": [],
   "source": [
    "import requests\n",
    "import json\n",
    "import numpy as np\n",
    "import os\n",
    "\n",
    "features = np.array([\n",
    "    [6.8, 2.8, 4.8, 1.4],\n",
    "    [6.0, 3.4, 4.5, 1.6]\n",
    "])\n",
    "\n",
    "# JSON 데이터 정의\n",
    "data = {\n",
    "    \"parameters\": {\n",
    "        \"content_type\": \"np\"\n",
    "    },\n",
    "    \"inputs\": [\n",
    "        {\n",
    "            \"name\": \"features\",\n",
    "            \"shape\": list(features.shape),\n",
    "            \"datatype\": \"FP64\",\n",
    "            \"data\": features.tolist()  # Numpy 배열 -> 리스트 변환\n",
    "        }\n",
    "    ]\n",
    "}\n",
    "\n",
    "# TOKEN = 'eyJhbGciOiJSUzI1NiIsImtpZCI6IjdERXlqSnBJZno4VzktTl81Z1hhR1hpMWcwY3lDZzRYZzlJOUF6bjNld2sifQ.eyJhdWQiOlsiaXN0aW8taW5ncmVzc2dhdGV3YXkuaXN0aW8tc3lzdGVtLnN2Yy5jbHVzdGVyLmxvY2FsIl0sImV4cCI6MTczMzMzMDI5OCwiaWF0IjoxNzMzMjQzODk4LCJpc3MiOiJodHRwczovL2NvbnRhaW5lci5nb29nbGVhcGlzLmNvbS92MS9wcm9qZWN0cy9ub21hZGljLWFzc2V0LTQ0MTAxMC1xMS9sb2NhdGlvbnMvYXNpYS1ub3J0aGVhc3QxL2NsdXN0ZXJzL2NsdXN0ZXItMSIsImp0aSI6ImQ4YWQ4Y2YwLWU2NDktNDJkOS04Yzk1LWQ4NzQzODEwNTQzYiIsImt1YmVybmV0ZXMuaW8iOnsibmFtZXNwYWNlIjoia3ViZWZsb3ctdXNlci1leGFtcGxlLWNvbSIsInNlcnZpY2VhY2NvdW50Ijp7Im5hbWUiOiJkZWZhdWx0LWVkaXRvciIsInVpZCI6ImViZmZiNTdmLTQwMWEtNDE0OS1iZDkzLWUxNmVlYzRjYWRjZiJ9fSwibmJmIjoxNzMzMjQzODk4LCJzdWIiOiJzeXN0ZW06c2VydmljZWFjY291bnQ6a3ViZWZsb3ctdXNlci1leGFtcGxlLWNvbTpkZWZhdWx0LWVkaXRvciJ9.wc50K2_lnD9NgvfAklHb0Dc_0FvHULA5gxd5A6wRJGd519W4tdKp9DwOcCFlVjy-A4V7-z8oiGv_mXwU_aLA85TvvDJ5Crqo_MQlTL9pZ0w1vjcsRKw_8H9S34Hpv3sPyRSm2q6OdTJEHiFCjpX0ShhHpQhtq6EfaI_3LSBvcEbjzMtV7Unbn7Sf-6iJNpHN59JuVDKLv3j7I_cOSGhtWiac0QyuS9deK9bM3n-Pl7EfrhqMhZPripUZmh8zBHSj4OA67qbuUce8Xobb65XiJ6kclrmE7XxpldvQHiBhrv2rdKWL51AwnhoNL8D9udAMvuHZZNLztrKZk_dHWhrZJw'\n",
    "\n",
    "\n"
   ]
  },
  {
   "cell_type": "code",
   "execution_count": null,
   "metadata": {},
   "outputs": [],
   "source": [
    "# InferenceService 엔드포인트 URL\n",
    "MODEL_ENDPOINT = \"http://irish-s3.my-profile.svc.cluster.local\"\n",
    "url = f\"{MODEL_ENDPOINT}/v2/models/irish-s3/infer\"  # /infer로 경로 수정\n",
    "\n",
    "# 요청 헤더\n",
    "headers = {\n",
    "    \"Content-Type\": \"application/json\",\n",
    "    # \"Authorization\": f\"Bearer {TOKEN}\"\n",
    "}\n",
    "\n",
    "# 요청 전송 및 응답 처리\n",
    "response = requests.post(url, headers=headers, data=json.dumps(data))\n",
    "print(response.text)\n",
    "print(response.status_code)\n"
   ]
  },
  {
   "cell_type": "code",
   "execution_count": 10,
   "metadata": {},
   "outputs": [
    {
     "name": "stdout",
     "output_type": "stream",
     "text": [
      "{\"model_name\":\"irish-s3\",\"id\":\"27f6a843-887b-45c9-a945-9b5931a74ab3\",\"parameters\":{\"content_type\":\"np\"},\"outputs\":[{\"name\":\"output-1\",\"shape\":[2,1],\"datatype\":\"INT64\",\"parameters\":{\"content_type\":\"np\"},\"data\":[1,1]}]}\n",
      "200\n"
     ]
    }
   ],
   "source": [
    "# InferenceService 엔드포인트 URL\n",
    "MODEL_ENDPOINT = \"http://irish-s3.my-profile.35.243.117.46.sslip.io\"\n",
    "url = f\"{MODEL_ENDPOINT}/v2/models/irish-s3/infer\"  # /infer로 경로 수정\n",
    "\n",
    "# 요청 헤더\n",
    "headers = {\n",
    "    \"Content-Type\": \"application/json\",\n",
    "    # \"Authorization\": f\"Bearer {TOKEN}\"\n",
    "}\n",
    "\n",
    "# 요청 전송 및 응답 처리\n",
    "response = requests.post(url, headers=headers, data=json.dumps(data))\n",
    "print(response.text)\n",
    "print(response.status_code)\n"
   ]
  }
 ],
 "metadata": {
  "kernelspec": {
   "display_name": "Python 3",
   "language": "python",
   "name": "python3"
  },
  "language_info": {
   "codemirror_mode": {
    "name": "ipython",
    "version": 3
   },
   "file_extension": ".py",
   "mimetype": "text/x-python",
   "name": "python",
   "nbconvert_exporter": "python",
   "pygments_lexer": "ipython3",
   "version": "3.11.10"
  }
 },
 "nbformat": 4,
 "nbformat_minor": 2
}
